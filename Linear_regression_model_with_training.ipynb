{
  "nbformat": 4,
  "nbformat_minor": 0,
  "metadata": {
    "colab": {
      "provenance": [],
      "gpuType": "T4"
    },
    "kernelspec": {
      "name": "python3",
      "display_name": "Python 3"
    },
    "language_info": {
      "name": "python"
    },
    "accelerator": "GPU"
  },
  "cells": [
    {
      "cell_type": "code",
      "execution_count": 1,
      "metadata": {
        "colab": {
          "base_uri": "https://localhost:8080/",
          "height": 35
        },
        "id": "t74Ex5xk86pF",
        "outputId": "37dfcbf6-e541-4b47-c7a0-eab1896c22e6"
      },
      "outputs": [
        {
          "output_type": "execute_result",
          "data": {
            "text/plain": [
              "'2.1.0+cu118'"
            ],
            "application/vnd.google.colaboratory.intrinsic+json": {
              "type": "string"
            }
          },
          "metadata": {},
          "execution_count": 1
        }
      ],
      "source": [
        "import torch\n",
        "import torch as nn\n",
        "import matplotlib.pyplot as plt\n",
        "torch.__version__"
      ]
    },
    {
      "cell_type": "markdown",
      "source": [
        "#DATA (preparing and loading)\n",
        "*excel\n",
        "*images\n",
        "*video\n",
        "*Audio\n",
        "*text\n",
        "*DNA\n",
        "\n",
        "Machine learning is a game of two parts:"
      ],
      "metadata": {
        "id": "_3WGQKU99WaB"
      }
    },
    {
      "cell_type": "markdown",
      "source": [
        "#linear reggression to make straing line with known parameters"
      ],
      "metadata": {
        "id": "RJfhc72O91qQ"
      }
    },
    {
      "cell_type": "markdown",
      "source": [
        "# equation of linear reggression\n",
        "# x = yw+b\n"
      ],
      "metadata": {
        "id": "m42dHfOhAMDk"
      }
    },
    {
      "cell_type": "code",
      "source": [
        "#create known parameters\n",
        "weight = 0.7\n",
        "bias = 0.3\n",
        "#create\n",
        "start = 0\n",
        "end = 1\n",
        "step = 0.02\n",
        "X=torch.arange(start,end,step).unsqueeze(dim=1)\n",
        "y = weight*X + bias\n",
        "X[:10],y[:10]"
      ],
      "metadata": {
        "colab": {
          "base_uri": "https://localhost:8080/"
        },
        "id": "zCcPTMU_AEdb",
        "outputId": "de71a305-fcf4-4f91-ab9e-86b2edf60ad7"
      },
      "execution_count": 2,
      "outputs": [
        {
          "output_type": "execute_result",
          "data": {
            "text/plain": [
              "(tensor([[0.0000],\n",
              "         [0.0200],\n",
              "         [0.0400],\n",
              "         [0.0600],\n",
              "         [0.0800],\n",
              "         [0.1000],\n",
              "         [0.1200],\n",
              "         [0.1400],\n",
              "         [0.1600],\n",
              "         [0.1800]]),\n",
              " tensor([[0.3000],\n",
              "         [0.3140],\n",
              "         [0.3280],\n",
              "         [0.3420],\n",
              "         [0.3560],\n",
              "         [0.3700],\n",
              "         [0.3840],\n",
              "         [0.3980],\n",
              "         [0.4120],\n",
              "         [0.4260]]))"
            ]
          },
          "metadata": {},
          "execution_count": 2
        }
      ]
    },
    {
      "cell_type": "code",
      "source": [
        "len(X),len(y)"
      ],
      "metadata": {
        "colab": {
          "base_uri": "https://localhost:8080/"
        },
        "id": "moetsMLoARj1",
        "outputId": "92048975-3f7c-4339-9750-ad0ff2e7b8c5"
      },
      "execution_count": 3,
      "outputs": [
        {
          "output_type": "execute_result",
          "data": {
            "text/plain": [
              "(50, 50)"
            ]
          },
          "metadata": {},
          "execution_count": 3
        }
      ]
    },
    {
      "cell_type": "markdown",
      "source": [
        "#splitting data into traing and test set"
      ],
      "metadata": {
        "id": "NACPl_XtC_E9"
      }
    },
    {
      "cell_type": "code",
      "source": [
        "train_split = int(0.8 * len(X))\n",
        "X_train,y_train = X[:train_split],y[:train_split]\n",
        "X_test,y_test = X[train_split:],y[train_split:]\n",
        "len(X_train),len(y_train),len(X_test),len(y_test)"
      ],
      "metadata": {
        "id": "wn0wFtnVDF57",
        "colab": {
          "base_uri": "https://localhost:8080/"
        },
        "outputId": "05c35166-ffec-45df-e3dc-109d2f68520f"
      },
      "execution_count": 4,
      "outputs": [
        {
          "output_type": "execute_result",
          "data": {
            "text/plain": [
              "(40, 40, 10, 10)"
            ]
          },
          "metadata": {},
          "execution_count": 4
        }
      ]
    },
    {
      "cell_type": "code",
      "source": [
        "def plot_predictions(train_data=X_train,\n",
        "                     train_lables = y_train,\n",
        "                     test_data= X_test,\n",
        "                     test_lables=y_test,\n",
        "                     predictions= None):\n",
        "  \"\"\"Plots training data , test data and compare predictions\"\"\"\n",
        "  plt.figure(figsize = (10,7))\n",
        "  #plot traing data in blue\n",
        "  plt.scatter(train_data,train_lables,c = \"b\",s = 4,label = \"training data\")\n",
        "  #plot test data in green\n",
        "  plt.scatter(test_data,test_lables,c = \"g\",s = 4,label = \"Testing data\")\n",
        "  #are there predictions?\n",
        "  if predictions is not None:\n",
        "    #plot the predictions if they exist\n",
        "    plt.scatter(test_data,predictions,c = \"r\",s=4,label=\"predictrions\")\n",
        "  #show the legend\n",
        "  plt.legend(prop={\"size\":14})"
      ],
      "metadata": {
        "id": "oHUq5-76tfH0"
      },
      "execution_count": 5,
      "outputs": []
    },
    {
      "cell_type": "code",
      "source": [
        "plot_predictions();"
      ],
      "metadata": {
        "colab": {
          "base_uri": "https://localhost:8080/",
          "height": 599
        },
        "id": "fHllRWkc5HoK",
        "outputId": "b1f40647-1d61-42a9-f3d3-304cc8e275b3"
      },
      "execution_count": 6,
      "outputs": [
        {
          "output_type": "display_data",
          "data": {
            "text/plain": [
              "<Figure size 1000x700 with 1 Axes>"
            ],
            "image/png": "[encoded data removed]"
          },
          "metadata": {}
        }
      ]
    },
    {
      "cell_type": "markdown",
      "source": [
        "#Traing the model"
      ],
      "metadata": {
        "id": "9yYsQT1x8Fqj"
      }
    },
    {
      "cell_type": "markdown",
      "source": [
        "First pytorch model- linear regg model"
      ],
      "metadata": {
        "id": "OWh516l89MVv"
      }
    },
    {
      "cell_type": "code",
      "source": [
        "# Create a Linear Regression model class\n",
        "from torch import nn\n",
        "class LinearRegressionModel(nn.Module): # <- almost everything in PyTorch is a nn.Module (think of this as neural network lego blocks)\n",
        "    def __init__(self):\n",
        "        super().__init__()\n",
        "        self.weights = nn.Parameter(torch.randn(1, # <- start with random weights (this will get adjusted as the model learns)\n",
        "                                                dtype=torch.float), # <- PyTorch loves float32 by default\n",
        "                                   requires_grad=True) # <- can we update this value with gradient descent?)\n",
        "\n",
        "        self.bias = nn.Parameter(torch.randn(1, # <- start with random bias (this will get adjusted as the model learns)\n",
        "                                            dtype=torch.float), # <- PyTorch loves float32 by default\n",
        "                                requires_grad=True) # <- can we update this value with gradient descent?))\n",
        "\n",
        "    # Forward defines the computation in the model\n",
        "    def forward(self, x: torch.Tensor) -> torch.Tensor: # <- \"x\" is the input data (e.g. training/testing features)\n",
        "        return self.weights * x + self.bias # <- this is the linear regression formula (y = m*x + b)"
      ],
      "metadata": {
        "id": "ZFVv8BHF9XQX"
      },
      "execution_count": 10,
      "outputs": []
    },
    {
      "cell_type": "markdown",
      "source": [
        "# create random seed for same result everytime - 42"
      ],
      "metadata": {
        "id": "H8QH5CueH2tQ"
      }
    },
    {
      "cell_type": "code",
      "source": [
        "# Set manual seed since nn.Parameter are randomly initialzied\n",
        "torch.manual_seed(42)\n",
        "\n",
        "# Create an instance of the model (this is a subclass of nn.Module that contains nn.Parameter(s))\n",
        "model_0 = LinearRegressionModel()\n",
        "\n",
        "# Check the nn.Parameter(s) within the nn.Module subclass we created\n",
        "parameters = list(model_0.parameters())\n",
        "print(parameters)"
      ],
      "metadata": {
        "colab": {
          "base_uri": "https://localhost:8080/"
        },
        "id": "UesWJlTnH9eD",
        "outputId": "4793fcd4-5dd3-47bc-9d96-c4d44b934699"
      },
      "execution_count": 11,
      "outputs": [
        {
          "output_type": "stream",
          "name": "stdout",
          "text": [
            "[Parameter containing:\n",
            "tensor([0.3367], requires_grad=True), Parameter containing:\n",
            "tensor([0.1288], requires_grad=True)]\n"
          ]
        }
      ]
    },
    {
      "cell_type": "markdown",
      "source": [
        "### making predictions using torch.inference_mode()\n",
        "To check our models predictive power lets see how well it predicts X_test and y_test"
      ],
      "metadata": {
        "id": "lA7xObBcMCoZ"
      }
    },
    {
      "cell_type": "code",
      "source": [
        "#make predictions with model\n",
        "with torch.inference_mode():\n",
        "  y_preds = model_0(X_test)\n",
        "y_preds"
      ],
      "metadata": {
        "colab": {
          "base_uri": "https://localhost:8080/"
        },
        "id": "_PR6Ih2ZNLIW",
        "outputId": "11c9294e-26ac-48a8-a127-f2f8c3891da8"
      },
      "execution_count": 12,
      "outputs": [
        {
          "output_type": "execute_result",
          "data": {
            "text/plain": [
              "tensor([[0.3982],\n",
              "        [0.4049],\n",
              "        [0.4116],\n",
              "        [0.4184],\n",
              "        [0.4251],\n",
              "        [0.4318],\n",
              "        [0.4386],\n",
              "        [0.4453],\n",
              "        [0.4520],\n",
              "        [0.4588]])"
            ]
          },
          "metadata": {},
          "execution_count": 12
        }
      ]
    },
    {
      "cell_type": "code",
      "source": [
        "plot_predictions(predictions=y_preds)"
      ],
      "metadata": {
        "colab": {
          "base_uri": "https://localhost:8080/",
          "height": 599
        },
        "id": "37HZ5dW9N8db",
        "outputId": "3212eed9-43d9-463e-cf75-a0ff09e2dc27"
      },
      "execution_count": 14,
      "outputs": [
        {
          "output_type": "display_data",
          "data": {
            "text/plain": [
              "<Figure size 1000x700 with 1 Axes>"
            ],
            "image/png": "[encoded data removed]"
          },
          "metadata": {}
        }
      ]
    },
    {
      "cell_type": "markdown",
      "source": [
        "###Train a Model"
      ],
      "metadata": {
        "id": "qFh9geC0OGYz"
      }
    },
    {
      "cell_type": "code",
      "source": [],
      "metadata": {
        "id": "rX_R-sMePqM9"
      },
      "execution_count": null,
      "outputs": []
    }
  ]
}