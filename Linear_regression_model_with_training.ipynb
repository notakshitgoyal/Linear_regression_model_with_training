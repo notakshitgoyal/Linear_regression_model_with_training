{
  "nbformat": 4,
  "nbformat_minor": 0,
  "metadata": {
    "colab": {
      "provenance": []
    },
    "kernelspec": {
      "name": "python3",
      "display_name": "Python 3"
    },
    "language_info": {
      "name": "python"
    }
  },
  "cells": [
    {
      "cell_type": "code",
      "execution_count": 31,
      "metadata": {
        "colab": {
          "base_uri": "https://localhost:8080/",
          "height": 35
        },
        "id": "t74Ex5xk86pF",
        "outputId": "2588b46c-6711-465b-f7ce-2b3a22da7f91"
      },
      "outputs": [
        {
          "output_type": "execute_result",
          "data": {
            "text/plain": [
              "'2.1.0+cu118'"
            ],
            "application/vnd.google.colaboratory.intrinsic+json": {
              "type": "string"
            }
          },
          "metadata": {},
          "execution_count": 31
        }
      ],
      "source": [
        "import torch\n",
        "import torch as nn\n",
        "import matplotlib.pyplot as plt\n",
        "torch.__version__"
      ]
    },
    {
      "cell_type": "markdown",
      "source": [
        "#DATA (preparing and loading)\n",
        "*excel\n",
        "*images\n",
        "*video\n",
        "*Audio\n",
        "*text\n",
        "*DNA\n",
        "\n",
        "Machine learning is a game of two parts:"
      ],
      "metadata": {
        "id": "_3WGQKU99WaB"
      }
    },
    {
      "cell_type": "markdown",
      "source": [
        "#linear reggression to make straing line with known parameters"
      ],
      "metadata": {
        "id": "RJfhc72O91qQ"
      }
    },
    {
      "cell_type": "markdown",
      "source": [
        "# equation of linear reggression\n",
        "# x = yw+b\n"
      ],
      "metadata": {
        "id": "m42dHfOhAMDk"
      }
    },
    {
      "cell_type": "code",
      "source": [
        "#create known parameters\n",
        "weight = 0.7\n",
        "bias = 0.3\n",
        "#create\n",
        "start = 0\n",
        "end = 1\n",
        "step = 0.02\n",
        "X=torch.arange(start,end,step).unsqueeze(dim=1)\n",
        "y = weight*X + bias\n",
        "X[:10],y[:10]"
      ],
      "metadata": {
        "colab": {
          "base_uri": "https://localhost:8080/"
        },
        "id": "zCcPTMU_AEdb",
        "outputId": "3776ee51-8916-4894-c43f-78b0db37245f"
      },
      "execution_count": 32,
      "outputs": [
        {
          "output_type": "execute_result",
          "data": {
            "text/plain": [
              "(tensor([[0.0000],\n",
              "         [0.0200],\n",
              "         [0.0400],\n",
              "         [0.0600],\n",
              "         [0.0800],\n",
              "         [0.1000],\n",
              "         [0.1200],\n",
              "         [0.1400],\n",
              "         [0.1600],\n",
              "         [0.1800]]),\n",
              " tensor([[0.3000],\n",
              "         [0.3140],\n",
              "         [0.3280],\n",
              "         [0.3420],\n",
              "         [0.3560],\n",
              "         [0.3700],\n",
              "         [0.3840],\n",
              "         [0.3980],\n",
              "         [0.4120],\n",
              "         [0.4260]]))"
            ]
          },
          "metadata": {},
          "execution_count": 32
        }
      ]
    },
    {
      "cell_type": "code",
      "source": [
        "len(X),len(y)"
      ],
      "metadata": {
        "colab": {
          "base_uri": "https://localhost:8080/"
        },
        "id": "moetsMLoARj1",
        "outputId": "0d5bc1e3-6088-49fd-92f9-e65de59dec3a"
      },
      "execution_count": 33,
      "outputs": [
        {
          "output_type": "execute_result",
          "data": {
            "text/plain": [
              "(50, 50)"
            ]
          },
          "metadata": {},
          "execution_count": 33
        }
      ]
    },
    {
      "cell_type": "markdown",
      "source": [
        "#splitting data into traing and test set"
      ],
      "metadata": {
        "id": "NACPl_XtC_E9"
      }
    },
    {
      "cell_type": "code",
      "source": [
        "train_split = int(0.8 * len(X))\n",
        "X_train,y_train = X[:train_split],y[:train_split]\n",
        "X_test,y_test = X[train_split:],y[train_split:]\n",
        "len(X_train),len(y_train),len(X_test),len(y_test)"
      ],
      "metadata": {
        "id": "wn0wFtnVDF57",
        "colab": {
          "base_uri": "https://localhost:8080/"
        },
        "outputId": "086b5a26-e7f0-42eb-9da9-a0178f274391"
      },
      "execution_count": 34,
      "outputs": [
        {
          "output_type": "execute_result",
          "data": {
            "text/plain": [
              "(40, 40, 10, 10)"
            ]
          },
          "metadata": {},
          "execution_count": 34
        }
      ]
    },
    {
      "cell_type": "code",
      "source": [
        "def plot_predictions(train_data=X_train,\n",
        "                     train_lables = y_train,\n",
        "                     test_data= X_test,\n",
        "                     test_lables=y_test,\n",
        "                     predictions= None):\n",
        "  \"\"\"Plots training data , test data and compare predictions\"\"\"\n",
        "  plt.figure(figsize = (10,7))\n",
        "  #plot traing data in blue\n",
        "  plt.scatter(train_data,train_lables,c = \"b\",s = 4,label = \"training data\")\n",
        "  #plot test data in green\n",
        "  plt.scatter(test_data,test_lables,c = \"g\",s = 4,label = \"Testing data\")\n",
        "  #are there predictions?\n",
        "  if predictions is not None:\n",
        "    #plot the predictions if they exist\n",
        "    plt.scatter(test_data,predictions,c = \"r\",s=4,label=\"predictrions\")\n",
        "  #show the legend\n",
        "  plt.legend(prop={\"size\":14})"
      ],
      "metadata": {
        "id": "oHUq5-76tfH0"
      },
      "execution_count": 35,
      "outputs": []
    },
    {
      "cell_type": "code",
      "source": [
        "plot_predictions();"
      ],
      "metadata": {
        "colab": {
          "base_uri": "https://localhost:8080/",
          "height": 599
        },
        "id": "fHllRWkc5HoK",
        "outputId": "569fe087-ec5a-401e-8ebd-ac4be5dcb163"
      },
      "execution_count": 36,
      "outputs": [
        {
          "output_type": "display_data",
          "data": {
            "text/plain": [
              "<Figure size 1000x700 with 1 Axes>"
            ],
            "image/png": "[encoded data removed]"
          },
          "metadata": {}
        }
      ]
    },
    {
      "cell_type": "markdown",
      "source": [
        "#Traing the model"
      ],
      "metadata": {
        "id": "9yYsQT1x8Fqj"
      }
    },
    {
      "cell_type": "markdown",
      "source": [
        "First pytorch model- linear regg model"
      ],
      "metadata": {
        "id": "OWh516l89MVv"
      }
    },
    {
      "cell_type": "code",
      "source": [
        "# Create a Linear Regression model class\n",
        "from torch import nn\n",
        "class LinearRegressionModel(nn.Module): # <- almost everything in PyTorch is a nn.Module (think of this as neural network lego blocks)\n",
        "    def __init__(self):\n",
        "        super().__init__()\n",
        "        self.weights = nn.Parameter(torch.randn(1, # <- start with random weights (this will get adjusted as the model learns)\n",
        "                                                dtype=torch.float), # <- PyTorch loves float32 by default\n",
        "                                   requires_grad=True) # <- can we update this value with gradient descent?)\n",
        "\n",
        "        self.bias = nn.Parameter(torch.randn(1, # <- start with random bias (this will get adjusted as the model learns)\n",
        "                                            dtype=torch.float), # <- PyTorch loves float32 by default\n",
        "                                requires_grad=True) # <- can we update this value with gradient descent?))\n",
        "\n",
        "    # Forward defines the computation in the model\n",
        "    def forward(self, x: torch.Tensor) -> torch.Tensor: # <- \"x\" is the input data (e.g. training/testing features)\n",
        "        return self.weights * x + self.bias # <- this is the linear regression formula (y = m*x + b)"
      ],
      "metadata": {
        "id": "ZFVv8BHF9XQX"
      },
      "execution_count": 37,
      "outputs": []
    },
    {
      "cell_type": "markdown",
      "source": [
        "# create random seed for same result everytime - 42"
      ],
      "metadata": {
        "id": "H8QH5CueH2tQ"
      }
    },
    {
      "cell_type": "code",
      "source": [
        "# Set manual seed since nn.Parameter are randomly initialzied\n",
        "torch.manual_seed(42)\n",
        "\n",
        "# Create an instance of the model (this is a subclass of nn.Module that contains nn.Parameter(s))\n",
        "model_0 = LinearRegressionModel()\n",
        "\n",
        "# Check the nn.Parameter(s) within the nn.Module subclass we created\n",
        "parameters = list(model_0.parameters())\n",
        "print(parameters)"
      ],
      "metadata": {
        "colab": {
          "base_uri": "https://localhost:8080/"
        },
        "id": "UesWJlTnH9eD",
        "outputId": "5433f2ca-d446-4086-9eb3-45dbdc448f2a"
      },
      "execution_count": 38,
      "outputs": [
        {
          "output_type": "stream",
          "name": "stdout",
          "text": [
            "[Parameter containing:\n",
            "tensor([0.3367], requires_grad=True), Parameter containing:\n",
            "tensor([0.1288], requires_grad=True)]\n"
          ]
        }
      ]
    },
    {
      "cell_type": "markdown",
      "source": [
        "### making predictions using torch.inference_mode()\n",
        "To check our models predictive power lets see how well it predicts X_test and y_test"
      ],
      "metadata": {
        "id": "lA7xObBcMCoZ"
      }
    },
    {
      "cell_type": "code",
      "source": [
        "#make predictions with model\n",
        "with torch.inference_mode():\n",
        "  y_preds = model_0(X_test)\n",
        "y_preds"
      ],
      "metadata": {
        "colab": {
          "base_uri": "https://localhost:8080/"
        },
        "id": "_PR6Ih2ZNLIW",
        "outputId": "ee819164-6864-4a5b-9911-8201fc2c16e7"
      },
      "execution_count": 39,
      "outputs": [
        {
          "output_type": "execute_result",
          "data": {
            "text/plain": [
              "tensor([[0.3982],\n",
              "        [0.4049],\n",
              "        [0.4116],\n",
              "        [0.4184],\n",
              "        [0.4251],\n",
              "        [0.4318],\n",
              "        [0.4386],\n",
              "        [0.4453],\n",
              "        [0.4520],\n",
              "        [0.4588]])"
            ]
          },
          "metadata": {},
          "execution_count": 39
        }
      ]
    },
    {
      "cell_type": "code",
      "source": [
        "plot_predictions(predictions=y_preds)"
      ],
      "metadata": {
        "colab": {
          "base_uri": "https://localhost:8080/",
          "height": 599
        },
        "id": "37HZ5dW9N8db",
        "outputId": "1a6fc839-aeb6-416c-b6e5-89d198cb69fc"
      },
      "execution_count": 40,
      "outputs": [
        {
          "output_type": "display_data",
          "data": {
            "text/plain": [
              "<Figure size 1000x700 with 1 Axes>"
            ],
            "image/png": "[encoded data removed]"
          },
          "metadata": {}
        }
      ]
    },
    {
      "cell_type": "markdown",
      "source": [
        "###Train a Model"
      ],
      "metadata": {
        "id": "qFh9geC0OGYz"
      }
    },
    {
      "cell_type": "code",
      "source": [
        "#setup loss function\n",
        "loss_fn = nn.L1Loss()"
      ],
      "metadata": {
        "id": "rX_R-sMePqM9"
      },
      "execution_count": 41,
      "outputs": []
    },
    {
      "cell_type": "code",
      "source": [
        "#setup an optimizer\n",
        "#Implements stochastic gradient descent\n",
        "optimizer = torch.optim.SGD(params = model_0.parameters(),lr=0.01)"
      ],
      "metadata": {
        "id": "_SzTrYcdTeoz"
      },
      "execution_count": 42,
      "outputs": []
    },
    {
      "cell_type": "markdown",
      "source": [
        "##Things we need to do in traing loop\n",
        "0. Loop through the data\n",
        "1. forward pass (this involves forward()) to make predictions on data\n",
        "2. calculate the loss(compare forward pass to ground truth lables)\n",
        "3. optimizer zero grad\n",
        "4. Loss Backward - move backwards through the network to calculate the gradients of each of the\n",
        "   parameters of our model with respect to the loss (**backpropagation**)\n",
        "5. optimizer step- use the optimizer to adjust our models parameters to try and\n",
        "   improve loss(**gradient descent**)\n"
      ],
      "metadata": {
        "id": "mYGh3j-lztqU"
      }
    },
    {
      "cell_type": "code",
      "source": [
        "# an epoch is one loop through the data\n",
        "torch.manual_seed(42)\n",
        "epochs = 2500\n",
        "#traking progress\n",
        "epoch_count=[]\n",
        "loss_values = []\n",
        "test_loss_values=[]\n",
        "##Training\n",
        "# 0.Loop through the data\n",
        "for epoch in range(epochs):\n",
        "  #set the model to traing mode\n",
        "  model_0.train()\n",
        "  #forward pass\n",
        "  y_pred = model_0(X_train)\n",
        "  #Calculate the loss\n",
        "  loss = loss_fn(y_pred,y_train)\n",
        "  #print(f\"Loss:{loss}\")\n",
        "  #optimizer zero grad\n",
        "  optimizer.zero_grad()\n",
        "  #perform backpropagation\n",
        "  loss.backward()\n",
        "  #step the optimizer(perform gradient descent)\n",
        "  optimizer.step()\n",
        "  #turn off gradient tracking and testing\n",
        "  model_0.eval()\n",
        "  with torch.inference_mode():\n",
        "    #1.forward pass\n",
        "    test_pred = model_0(X_test)\n",
        "    test_loss = loss_fn(test_pred,y_test)\n",
        "    if epoch % 100 == 0:\n",
        "      epoch_count.append(epoch)\n",
        "      loss_values.append(loss)\n",
        "      test_loss_values.append(test_loss)\n",
        "      print(f\"Epoch:{epoch} | Loss: {loss} | Test Loss:{test_loss}\")\n",
        "      print(model_0.state_dict())"
      ],
      "metadata": {
        "colab": {
          "base_uri": "https://localhost:8080/"
        },
        "id": "IuIy8QPQzws8",
        "outputId": "58ad4871-8abd-4aa1-8c74-f207252339cc"
      },
      "execution_count": 43,
      "outputs": [
        {
          "output_type": "stream",
          "name": "stdout",
          "text": [
            "Epoch:0 | Loss: 0.31288138031959534 | Test Loss:0.48106518387794495\n",
            "OrderedDict([('weights', tensor([0.3406])), ('bias', tensor([0.1388]))])\n",
            "Epoch:100 | Loss: 0.024458957836031914 | Test Loss:0.05646304413676262\n",
            "OrderedDict([('weights', tensor([0.5800])), ('bias', tensor([0.3503]))])\n",
            "Epoch:200 | Loss: 0.008932482451200485 | Test Loss:0.005023092031478882\n",
            "OrderedDict([('weights', tensor([0.6951])), ('bias', tensor([0.2993]))])\n",
            "Epoch:300 | Loss: 0.008932482451200485 | Test Loss:0.005023092031478882\n",
            "OrderedDict([('weights', tensor([0.6951])), ('bias', tensor([0.2993]))])\n",
            "Epoch:400 | Loss: 0.008932482451200485 | Test Loss:0.005023092031478882\n",
            "OrderedDict([('weights', tensor([0.6951])), ('bias', tensor([0.2993]))])\n",
            "Epoch:500 | Loss: 0.008932482451200485 | Test Loss:0.005023092031478882\n",
            "OrderedDict([('weights', tensor([0.6951])), ('bias', tensor([0.2993]))])\n",
            "Epoch:600 | Loss: 0.008932482451200485 | Test Loss:0.005023092031478882\n",
            "OrderedDict([('weights', tensor([0.6951])), ('bias', tensor([0.2993]))])\n",
            "Epoch:700 | Loss: 0.008932482451200485 | Test Loss:0.005023092031478882\n",
            "OrderedDict([('weights', tensor([0.6951])), ('bias', tensor([0.2993]))])\n",
            "Epoch:800 | Loss: 0.008932482451200485 | Test Loss:0.005023092031478882\n",
            "OrderedDict([('weights', tensor([0.6951])), ('bias', tensor([0.2993]))])\n",
            "Epoch:900 | Loss: 0.008932482451200485 | Test Loss:0.005023092031478882\n",
            "OrderedDict([('weights', tensor([0.6951])), ('bias', tensor([0.2993]))])\n",
            "Epoch:1000 | Loss: 0.008932482451200485 | Test Loss:0.005023092031478882\n",
            "OrderedDict([('weights', tensor([0.6951])), ('bias', tensor([0.2993]))])\n",
            "Epoch:1100 | Loss: 0.008932482451200485 | Test Loss:0.005023092031478882\n",
            "OrderedDict([('weights', tensor([0.6951])), ('bias', tensor([0.2993]))])\n",
            "Epoch:1200 | Loss: 0.008932482451200485 | Test Loss:0.005023092031478882\n",
            "OrderedDict([('weights', tensor([0.6951])), ('bias', tensor([0.2993]))])\n",
            "Epoch:1300 | Loss: 0.008932482451200485 | Test Loss:0.005023092031478882\n",
            "OrderedDict([('weights', tensor([0.6951])), ('bias', tensor([0.2993]))])\n",
            "Epoch:1400 | Loss: 0.008932482451200485 | Test Loss:0.005023092031478882\n",
            "OrderedDict([('weights', tensor([0.6951])), ('bias', tensor([0.2993]))])\n",
            "Epoch:1500 | Loss: 0.008932482451200485 | Test Loss:0.005023092031478882\n",
            "OrderedDict([('weights', tensor([0.6951])), ('bias', tensor([0.2993]))])\n",
            "Epoch:1600 | Loss: 0.008932482451200485 | Test Loss:0.005023092031478882\n",
            "OrderedDict([('weights', tensor([0.6951])), ('bias', tensor([0.2993]))])\n",
            "Epoch:1700 | Loss: 0.008932482451200485 | Test Loss:0.005023092031478882\n",
            "OrderedDict([('weights', tensor([0.6951])), ('bias', tensor([0.2993]))])\n",
            "Epoch:1800 | Loss: 0.008932482451200485 | Test Loss:0.005023092031478882\n",
            "OrderedDict([('weights', tensor([0.6951])), ('bias', tensor([0.2993]))])\n",
            "Epoch:1900 | Loss: 0.008932482451200485 | Test Loss:0.005023092031478882\n",
            "OrderedDict([('weights', tensor([0.6951])), ('bias', tensor([0.2993]))])\n",
            "Epoch:2000 | Loss: 0.008932482451200485 | Test Loss:0.005023092031478882\n",
            "OrderedDict([('weights', tensor([0.6951])), ('bias', tensor([0.2993]))])\n",
            "Epoch:2100 | Loss: 0.008932482451200485 | Test Loss:0.005023092031478882\n",
            "OrderedDict([('weights', tensor([0.6951])), ('bias', tensor([0.2993]))])\n",
            "Epoch:2200 | Loss: 0.008932482451200485 | Test Loss:0.005023092031478882\n",
            "OrderedDict([('weights', tensor([0.6951])), ('bias', tensor([0.2993]))])\n",
            "Epoch:2300 | Loss: 0.008932482451200485 | Test Loss:0.005023092031478882\n",
            "OrderedDict([('weights', tensor([0.6951])), ('bias', tensor([0.2993]))])\n",
            "Epoch:2400 | Loss: 0.008932482451200485 | Test Loss:0.005023092031478882\n",
            "OrderedDict([('weights', tensor([0.6951])), ('bias', tensor([0.2993]))])\n"
          ]
        }
      ]
    },
    {
      "cell_type": "code",
      "source": [
        "with torch.inference_mode():\n",
        "  y_preds_new = model_0(X_test)"
      ],
      "metadata": {
        "id": "xu76Z5ac184b"
      },
      "execution_count": 44,
      "outputs": []
    },
    {
      "cell_type": "code",
      "source": [
        "plot_predictions(predictions=y_preds_new)"
      ],
      "metadata": {
        "colab": {
          "base_uri": "https://localhost:8080/",
          "height": 599
        },
        "id": "RsqhFDmrMKv5",
        "outputId": "273f6752-1245-46b5-9f4c-3eaddab39192"
      },
      "execution_count": 45,
      "outputs": [
        {
          "output_type": "display_data",
          "data": {
            "text/plain": [
              "<Figure size 1000x700 with 1 Axes>"
            ],
            "image/png": "[encoded data removed]"
          },
          "metadata": {}
        }
      ]
    },
    {
      "cell_type": "code",
      "source": [
        "import numpy as np\n",
        "plt.plot(epoch_count,np.array(torch.tensor(loss_values).numpy()),label = \"Train Loss\")\n",
        "plt.plot(epoch_count,test_loss_values,label = \"Test loss\")\n",
        "plt.title(\"Training and test loss curves\")\n",
        "plt.ylabel(\"Loss\")\n",
        "plt.xlabel(\"Epochs\")\n",
        "plt.legend();"
      ],
      "metadata": {
        "colab": {
          "base_uri": "https://localhost:8080/",
          "height": 472
        },
        "id": "RifZv44WLG1G",
        "outputId": "51fe7389-6b1e-43da-b069-6e5feaf2f1a6"
      },
      "execution_count": 46,
      "outputs": [
        {
          "output_type": "display_data",
          "data": {
            "text/plain": [
              "<Figure size 640x480 with 1 Axes>"
            ],
            "image/png": "[encoded data removed]"
          },
          "metadata": {}
        }
      ]
    },
    {
      "cell_type": "markdown",
      "source": [
        "#writing code to save a pytorch model"
      ],
      "metadata": {
        "id": "N6qxpp4PMO_d"
      }
    },
    {
      "cell_type": "markdown",
      "source": [
        "##there are three main methods\n",
        "1.torch.save() -- python pickle\n",
        "2.torch.load() -- allows to load a pytorch object\n",
        "3.torch.nn.Module.load_state_dict() -- allows to load a models saved dictionary"
      ],
      "metadata": {
        "id": "sxRrq6KDPXSP"
      }
    },
    {
      "cell_type": "code",
      "source": [
        "#saving our Pytorch model\n",
        "from pathlib import Path\n",
        "#1. create a model path\n",
        "MODEL_PATH = Path(\"models\")\n",
        "MODEL_PATH.mkdir(parents=True,exist_ok=True)\n",
        "#create a model save path\n",
        "MODEL_NAME=\"01_pytorch_workflow_model_0.pth\"\n",
        "MODEL_SAVE_PATH = MODEL_PATH/MODEL_NAME\n",
        "MODEL_SAVE_PATH\n",
        "#same the model state dict\n",
        "print(f\"Saving model to:{MODEL_SAVE_PATH}\")\n",
        "torch.save(obj = model_0.state_dict(),f=MODEL_SAVE_PATH)"
      ],
      "metadata": {
        "colab": {
          "base_uri": "https://localhost:8080/"
        },
        "id": "GAggfH1cP3ZH",
        "outputId": "2c8ae076-8ba5-4a98-d7ef-115ca25815c8"
      },
      "execution_count": 47,
      "outputs": [
        {
          "output_type": "stream",
          "name": "stdout",
          "text": [
            "Saving model to:models/01_pytorch_workflow_model_0.pth\n"
          ]
        }
      ]
    },
    {
      "cell_type": "code",
      "source": [
        "!ls -1 models"
      ],
      "metadata": {
        "colab": {
          "base_uri": "https://localhost:8080/"
        },
        "id": "i4_300VbQIxP",
        "outputId": "eadd5e49-d403-4e82-d3e0-ad45d1d86d5b"
      },
      "execution_count": 48,
      "outputs": [
        {
          "output_type": "stream",
          "name": "stdout",
          "text": [
            "01_pytorch_workflow_model_0.pth\n"
          ]
        }
      ]
    },
    {
      "cell_type": "markdown",
      "source": [
        "#code to load a pytorch model"
      ],
      "metadata": {
        "id": "ibKiTm7wTAI2"
      }
    },
    {
      "cell_type": "code",
      "source": [
        "#since we saved our model\n",
        "# to load in a saved dict we have to initiate a new instance of our model class\n",
        "loaded_model_0=LinearRegressionModel()\n",
        "loaded_model_0.state_dict(torch.load(f=MODEL_SAVE_PATH))\n",
        "loaded_model_0.state_dict()"
      ],
      "metadata": {
        "id": "dTDSLpcYTEog",
        "outputId": "c398c4a2-ed13-4d41-9950-c23db328e390",
        "colab": {
          "base_uri": "https://localhost:8080/"
        }
      },
      "execution_count": 49,
      "outputs": [
        {
          "output_type": "stream",
          "name": "stderr",
          "text": [
            "/usr/local/lib/python3.10/dist-packages/torch/nn/modules/module.py:1879: UserWarning: Positional args are being deprecated, use kwargs instead. Refer to https://pytorch.org/docs/master/generated/torch.nn.Module.html#torch.nn.Module.state_dict for details.\n",
            "  warnings.warn(\n"
          ]
        },
        {
          "output_type": "execute_result",
          "data": {
            "text/plain": [
              "OrderedDict([('weights', tensor([0.3367])), ('bias', tensor([0.1288]))])"
            ]
          },
          "metadata": {},
          "execution_count": 49
        }
      ]
    },
    {
      "cell_type": "code",
      "source": [
        "#make some predictions with our loaded model\n",
        "loaded_model_0.eval()\n",
        "with torch.inference_mode():\n",
        "  loaded_model_preds = loaded_model_0(X_test)\n",
        "loaded_model_preds"
      ],
      "metadata": {
        "id": "Rx-8zUJQUDc_",
        "outputId": "1ddd9870-4d1b-4e89-9f06-deaa1b75b9b4",
        "colab": {
          "base_uri": "https://localhost:8080/"
        }
      },
      "execution_count": 50,
      "outputs": [
        {
          "output_type": "execute_result",
          "data": {
            "text/plain": [
              "tensor([[0.3982],\n",
              "        [0.4049],\n",
              "        [0.4116],\n",
              "        [0.4184],\n",
              "        [0.4251],\n",
              "        [0.4318],\n",
              "        [0.4386],\n",
              "        [0.4453],\n",
              "        [0.4520],\n",
              "        [0.4588]])"
            ]
          },
          "metadata": {},
          "execution_count": 50
        }
      ]
    },
    {
      "cell_type": "code",
      "source": [
        "#make some model preds\n",
        "# model_0.eval()\n",
        "# with torch.inference_mode():\n",
        "#   y_preds = model_0(X_test)\n",
        "# y_preds"
      ],
      "metadata": {
        "id": "uxBqWqUpWgXt"
      },
      "execution_count": 51,
      "outputs": []
    },
    {
      "cell_type": "code",
      "source": [
        "y_preds == loaded_model_preds"
      ],
      "metadata": {
        "id": "u3y1oOK7UjWM",
        "outputId": "c97c75f3-e5a9-4df7-bfa3-0e664500709c",
        "colab": {
          "base_uri": "https://localhost:8080/"
        }
      },
      "execution_count": 52,
      "outputs": [
        {
          "output_type": "execute_result",
          "data": {
            "text/plain": [
              "tensor([[True],\n",
              "        [True],\n",
              "        [True],\n",
              "        [True],\n",
              "        [True],\n",
              "        [True],\n",
              "        [True],\n",
              "        [True],\n",
              "        [True],\n",
              "        [True]])"
            ]
          },
          "metadata": {},
          "execution_count": 52
        }
      ]
    }
  ]
}